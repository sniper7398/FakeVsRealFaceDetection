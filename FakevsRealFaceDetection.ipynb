{
  "nbformat": 4,
  "nbformat_minor": 0,
  "metadata": {
    "colab": {
      "name": "Untitled0.ipynb",
      "provenance": [],
      "collapsed_sections": []
    },
    "kernelspec": {
      "name": "python3",
      "display_name": "Python 3"
    }
  },
  "cells": [
    {
      "cell_type": "code",
      "metadata": {
        "id": "5zh4B7hItS6w",
        "colab_type": "code",
        "outputId": "33d3478b-9918-42a0-cb5e-fa2bd3372f7a",
        "colab": {
          "base_uri": "https://localhost:8080/",
          "height": 121
        }
      },
      "source": [
        "from google.colab import drive\n",
        "drive.mount('/content/drive')"
      ],
      "execution_count": 2,
      "outputs": [
        {
          "output_type": "stream",
          "text": [
            "Go to this URL in a browser: https://accounts.google.com/o/oauth2/auth?client_id=947318989803-6bn6qk8qdgf4n4g3pfee6491hc0brc4i.apps.googleusercontent.com&redirect_uri=urn%3aietf%3awg%3aoauth%3a2.0%3aoob&response_type=code&scope=email%20https%3a%2f%2fwww.googleapis.com%2fauth%2fdocs.test%20https%3a%2f%2fwww.googleapis.com%2fauth%2fdrive%20https%3a%2f%2fwww.googleapis.com%2fauth%2fdrive.photos.readonly%20https%3a%2f%2fwww.googleapis.com%2fauth%2fpeopleapi.readonly\n",
            "\n",
            "Enter your authorization code:\n",
            "··········\n",
            "Mounted at /content/drive\n"
          ],
          "name": "stdout"
        }
      ]
    },
    {
      "cell_type": "code",
      "metadata": {
        "id": "0xnspRkrA91G",
        "colab_type": "code",
        "outputId": "2d40e8e0-a4e8-491e-fd76-ead0b4454eb1",
        "colab": {
          "base_uri": "https://localhost:8080/",
          "height": 558
        }
      },
      "source": [
        "!pip install tensorflow-gpu==2.0.0-alpha\n",
        "!pip install split-folders"
      ],
      "execution_count": 3,
      "outputs": [
        {
          "output_type": "stream",
          "text": [
            "Collecting tensorflow-gpu==2.0.0-alpha\n",
            "\u001b[?25l  Downloading https://files.pythonhosted.org/packages/1a/66/32cffad095253219d53f6b6c2a436637bbe45ac4e7be0244557210dc3918/tensorflow_gpu-2.0.0a0-cp36-cp36m-manylinux1_x86_64.whl (332.1MB)\n",
            "\u001b[K     |████████████████████████████████| 332.1MB 47kB/s \n",
            "\u001b[?25hRequirement already satisfied: numpy<2.0,>=1.14.5 in /usr/local/lib/python3.6/dist-packages (from tensorflow-gpu==2.0.0-alpha) (1.17.4)\n",
            "Requirement already satisfied: google-pasta>=0.1.2 in /usr/local/lib/python3.6/dist-packages (from tensorflow-gpu==2.0.0-alpha) (0.1.8)\n",
            "Requirement already satisfied: keras-preprocessing>=1.0.5 in /usr/local/lib/python3.6/dist-packages (from tensorflow-gpu==2.0.0-alpha) (1.1.0)\n",
            "Requirement already satisfied: protobuf>=3.6.1 in /usr/local/lib/python3.6/dist-packages (from tensorflow-gpu==2.0.0-alpha) (3.10.0)\n",
            "Requirement already satisfied: six>=1.10.0 in /usr/local/lib/python3.6/dist-packages (from tensorflow-gpu==2.0.0-alpha) (1.12.0)\n",
            "Requirement already satisfied: termcolor>=1.1.0 in /usr/local/lib/python3.6/dist-packages (from tensorflow-gpu==2.0.0-alpha) (1.1.0)\n",
            "Requirement already satisfied: grpcio>=1.8.6 in /usr/local/lib/python3.6/dist-packages (from tensorflow-gpu==2.0.0-alpha) (1.15.0)\n",
            "Requirement already satisfied: astor>=0.6.0 in /usr/local/lib/python3.6/dist-packages (from tensorflow-gpu==2.0.0-alpha) (0.8.0)\n",
            "Collecting tb-nightly<1.14.0a20190302,>=1.14.0a20190301\n",
            "\u001b[?25l  Downloading https://files.pythonhosted.org/packages/a9/51/aa1d756644bf4624c03844115e4ac4058eff77acd786b26315f051a4b195/tb_nightly-1.14.0a20190301-py3-none-any.whl (3.0MB)\n",
            "\u001b[K     |████████████████████████████████| 3.0MB 39.5MB/s \n",
            "\u001b[?25hRequirement already satisfied: keras-applications>=1.0.6 in /usr/local/lib/python3.6/dist-packages (from tensorflow-gpu==2.0.0-alpha) (1.0.8)\n",
            "Requirement already satisfied: gast>=0.2.0 in /usr/local/lib/python3.6/dist-packages (from tensorflow-gpu==2.0.0-alpha) (0.2.2)\n",
            "Requirement already satisfied: wheel>=0.26 in /usr/local/lib/python3.6/dist-packages (from tensorflow-gpu==2.0.0-alpha) (0.33.6)\n",
            "Collecting tf-estimator-nightly<1.14.0.dev2019030116,>=1.14.0.dev2019030115\n",
            "\u001b[?25l  Downloading https://files.pythonhosted.org/packages/13/82/f16063b4eed210dc2ab057930ac1da4fbe1e91b7b051a6c8370b401e6ae7/tf_estimator_nightly-1.14.0.dev2019030115-py2.py3-none-any.whl (411kB)\n",
            "\u001b[K     |████████████████████████████████| 419kB 48.7MB/s \n",
            "\u001b[?25hRequirement already satisfied: absl-py>=0.7.0 in /usr/local/lib/python3.6/dist-packages (from tensorflow-gpu==2.0.0-alpha) (0.8.1)\n",
            "Requirement already satisfied: setuptools in /usr/local/lib/python3.6/dist-packages (from protobuf>=3.6.1->tensorflow-gpu==2.0.0-alpha) (41.4.0)\n",
            "Requirement already satisfied: werkzeug>=0.11.15 in /usr/local/lib/python3.6/dist-packages (from tb-nightly<1.14.0a20190302,>=1.14.0a20190301->tensorflow-gpu==2.0.0-alpha) (0.16.0)\n",
            "Requirement already satisfied: markdown>=2.6.8 in /usr/local/lib/python3.6/dist-packages (from tb-nightly<1.14.0a20190302,>=1.14.0a20190301->tensorflow-gpu==2.0.0-alpha) (3.1.1)\n",
            "Requirement already satisfied: h5py in /usr/local/lib/python3.6/dist-packages (from keras-applications>=1.0.6->tensorflow-gpu==2.0.0-alpha) (2.8.0)\n",
            "Installing collected packages: tb-nightly, tf-estimator-nightly, tensorflow-gpu\n",
            "Successfully installed tb-nightly-1.14.0a20190301 tensorflow-gpu-2.0.0a0 tf-estimator-nightly-1.14.0.dev2019030115\n",
            "Collecting split-folders\n",
            "  Downloading https://files.pythonhosted.org/packages/20/67/29dda743e6d23ac1ea3d16704d8bbb48d65faf3f1b1eaf53153b3da56c56/split_folders-0.3.1-py3-none-any.whl\n",
            "Installing collected packages: split-folders\n",
            "Successfully installed split-folders-0.3.1\n"
          ],
          "name": "stdout"
        }
      ]
    },
    {
      "cell_type": "code",
      "metadata": {
        "id": "7prKFO3dAWpR",
        "colab_type": "code",
        "colab": {
          "base_uri": "https://localhost:8080/",
          "height": 440
        },
        "outputId": "29bc918f-3a8a-4324-8513-8813857da9ad"
      },
      "source": [
        "from tensorflow.keras.preprocessing.image import ImageDataGenerator\n",
        "from tensorflow.keras.layers import GlobalAveragePooling2D\n",
        "from tensorflow.keras.layers import BatchNormalization\n",
        "from tensorflow.keras.applications import ResNet50\n",
        "from tensorflow.keras.optimizers import Adam\n",
        "from tensorflow.keras.layers import Dropout\n",
        "from tensorflow.keras.layers import Dense\n",
        "from tensorflow.keras import Sequential\n",
        "import matplotlib.pyplot as plt\n",
        "import tensorflow as tf\n",
        "import split_folders\n",
        "import numpy as np\n",
        "import cv2\n",
        "import os\n",
        "\n"
      ],
      "execution_count": 4,
      "outputs": [
        {
          "output_type": "stream",
          "text": [
            "/usr/local/lib/python3.6/dist-packages/tensorflow/python/framework/dtypes.py:523: FutureWarning: Passing (type, 1) or '1type' as a synonym of type is deprecated; in a future version of numpy, it will be understood as (type, (1,)) / '(1,)type'.\n",
            "  _np_qint8 = np.dtype([(\"qint8\", np.int8, 1)])\n",
            "/usr/local/lib/python3.6/dist-packages/tensorflow/python/framework/dtypes.py:524: FutureWarning: Passing (type, 1) or '1type' as a synonym of type is deprecated; in a future version of numpy, it will be understood as (type, (1,)) / '(1,)type'.\n",
            "  _np_quint8 = np.dtype([(\"quint8\", np.uint8, 1)])\n",
            "/usr/local/lib/python3.6/dist-packages/tensorflow/python/framework/dtypes.py:525: FutureWarning: Passing (type, 1) or '1type' as a synonym of type is deprecated; in a future version of numpy, it will be understood as (type, (1,)) / '(1,)type'.\n",
            "  _np_qint16 = np.dtype([(\"qint16\", np.int16, 1)])\n",
            "/usr/local/lib/python3.6/dist-packages/tensorflow/python/framework/dtypes.py:526: FutureWarning: Passing (type, 1) or '1type' as a synonym of type is deprecated; in a future version of numpy, it will be understood as (type, (1,)) / '(1,)type'.\n",
            "  _np_quint16 = np.dtype([(\"quint16\", np.uint16, 1)])\n",
            "/usr/local/lib/python3.6/dist-packages/tensorflow/python/framework/dtypes.py:527: FutureWarning: Passing (type, 1) or '1type' as a synonym of type is deprecated; in a future version of numpy, it will be understood as (type, (1,)) / '(1,)type'.\n",
            "  _np_qint32 = np.dtype([(\"qint32\", np.int32, 1)])\n",
            "/usr/local/lib/python3.6/dist-packages/tensorflow/python/framework/dtypes.py:532: FutureWarning: Passing (type, 1) or '1type' as a synonym of type is deprecated; in a future version of numpy, it will be understood as (type, (1,)) / '(1,)type'.\n",
            "  np_resource = np.dtype([(\"resource\", np.ubyte, 1)])\n",
            "/usr/local/lib/python3.6/dist-packages/tensorboard/compat/tensorflow_stub/dtypes.py:541: FutureWarning: Passing (type, 1) or '1type' as a synonym of type is deprecated; in a future version of numpy, it will be understood as (type, (1,)) / '(1,)type'.\n",
            "  _np_qint8 = np.dtype([(\"qint8\", np.int8, 1)])\n",
            "/usr/local/lib/python3.6/dist-packages/tensorboard/compat/tensorflow_stub/dtypes.py:542: FutureWarning: Passing (type, 1) or '1type' as a synonym of type is deprecated; in a future version of numpy, it will be understood as (type, (1,)) / '(1,)type'.\n",
            "  _np_quint8 = np.dtype([(\"quint8\", np.uint8, 1)])\n",
            "/usr/local/lib/python3.6/dist-packages/tensorboard/compat/tensorflow_stub/dtypes.py:543: FutureWarning: Passing (type, 1) or '1type' as a synonym of type is deprecated; in a future version of numpy, it will be understood as (type, (1,)) / '(1,)type'.\n",
            "  _np_qint16 = np.dtype([(\"qint16\", np.int16, 1)])\n",
            "/usr/local/lib/python3.6/dist-packages/tensorboard/compat/tensorflow_stub/dtypes.py:544: FutureWarning: Passing (type, 1) or '1type' as a synonym of type is deprecated; in a future version of numpy, it will be understood as (type, (1,)) / '(1,)type'.\n",
            "  _np_quint16 = np.dtype([(\"quint16\", np.uint16, 1)])\n",
            "/usr/local/lib/python3.6/dist-packages/tensorboard/compat/tensorflow_stub/dtypes.py:545: FutureWarning: Passing (type, 1) or '1type' as a synonym of type is deprecated; in a future version of numpy, it will be understood as (type, (1,)) / '(1,)type'.\n",
            "  _np_qint32 = np.dtype([(\"qint32\", np.int32, 1)])\n",
            "/usr/local/lib/python3.6/dist-packages/tensorboard/compat/tensorflow_stub/dtypes.py:550: FutureWarning: Passing (type, 1) or '1type' as a synonym of type is deprecated; in a future version of numpy, it will be understood as (type, (1,)) / '(1,)type'.\n",
            "  np_resource = np.dtype([(\"resource\", np.ubyte, 1)])\n"
          ],
          "name": "stderr"
        }
      ]
    },
    {
      "cell_type": "code",
      "metadata": {
        "id": "3pHOyK2rAdqO",
        "colab_type": "code",
        "colab": {}
      },
      "source": [
        "real = \"/content/drive/My Drive/real-and-fake-face-detection/real_and_fake_face/training_real\"\n",
        "fake = \"/content/drive/My Drive/real-and-fake-face-detection/real_and_fake_face/training_fake\"\n",
        "\n",
        "real_path = os.listdir(real)\n",
        "fake_path = os.listdir(fake)"
      ],
      "execution_count": 0,
      "outputs": []
    },
    {
      "cell_type": "code",
      "metadata": {
        "id": "-r5Fu2veAxy-",
        "colab_type": "code",
        "colab": {}
      },
      "source": [
        "def load_img(path):\n",
        "    image = cv2.imread(path)\n",
        "    image = cv2.resize(image, (224, 224))\n",
        "    return image[...,::-1]"
      ],
      "execution_count": 0,
      "outputs": []
    },
    {
      "cell_type": "code",
      "metadata": {
        "id": "IdSonvBrBKvg",
        "colab_type": "code",
        "colab": {}
      },
      "source": [
        "train_datagen = ImageDataGenerator(horizontal_flip=True,\n",
        "                                   vertical_flip=False,\n",
        "                                   rescale=1./255,\n",
        "                                   )"
      ],
      "execution_count": 0,
      "outputs": []
    },
    {
      "cell_type": "code",
      "metadata": {
        "id": "6Ky_koNlBPv2",
        "colab_type": "code",
        "colab": {}
      },
      "source": [
        "dataset_path = \"/content/drive/My Drive/real-and-fake-face-detection/real_and_fake_face\""
      ],
      "execution_count": 0,
      "outputs": []
    },
    {
      "cell_type": "code",
      "metadata": {
        "id": "zbWLSQ9bBYrP",
        "colab_type": "code",
        "outputId": "b6db55d3-099a-4245-94b1-06ec55ee966f",
        "colab": {
          "base_uri": "https://localhost:8080/",
          "height": 34
        }
      },
      "source": [
        "train = train_datagen.flow_from_directory(dataset_path,\n",
        "                                          class_mode=\"binary\",\n",
        "                                          target_size=(96, 96),\n",
        "                                          batch_size=32)"
      ],
      "execution_count": 9,
      "outputs": [
        {
          "output_type": "stream",
          "text": [
            "Found 2051 images belonging to 2 classes.\n"
          ],
          "name": "stdout"
        }
      ]
    },
    {
      "cell_type": "code",
      "metadata": {
        "id": "8TOij6BlXsxd",
        "colab_type": "code",
        "colab": {}
      },
      "source": [
        "x, y = next(train)"
      ],
      "execution_count": 0,
      "outputs": []
    },
    {
      "cell_type": "code",
      "metadata": {
        "id": "Zljm3BW8Xv5U",
        "colab_type": "code",
        "outputId": "1774e234-4d1e-4151-f590-be733a4f1261",
        "colab": {
          "base_uri": "https://localhost:8080/",
          "height": 34
        }
      },
      "source": [
        ""
      ],
      "execution_count": 0,
      "outputs": [
        {
          "output_type": "execute_result",
          "data": {
            "text/plain": [
              "0.0"
            ]
          },
          "metadata": {
            "tags": []
          },
          "execution_count": 18
        }
      ]
    },
    {
      "cell_type": "code",
      "metadata": {
        "id": "8VLnFJmtBhng",
        "colab_type": "code",
        "outputId": "8e85b35d-79d5-4534-ccf0-d5ae3fa6ce77",
        "colab": {
          "base_uri": "https://localhost:8080/",
          "height": 104
        }
      },
      "source": [
        "ResNet = ResNet50(input_shape=(96, 96, 3),\n",
        "                          include_top=False,\n",
        "                          weights='imagenet'\n",
        "                          )\n",
        "\n",
        "average_layer = GlobalAveragePooling2D()\n",
        "\n",
        "model = Sequential([\n",
        "    ResNet,\n",
        "    average_layer,\n",
        "    Dense(256, activation=tf.nn.relu),\n",
        "    BatchNormalization(),\n",
        "    Dropout(0.2),\n",
        "    Dense(2, activation=tf.nn.softmax)\n",
        "])"
      ],
      "execution_count": 10,
      "outputs": [
        {
          "output_type": "stream",
          "text": [
            "/usr/local/lib/python3.6/dist-packages/keras_applications/resnet50.py:265: UserWarning: The output shape of `ResNet50(include_top=False)` has been changed since Keras 2.2.0.\n",
            "  warnings.warn('The output shape of `ResNet50(include_top=False)` '\n"
          ],
          "name": "stderr"
        },
        {
          "output_type": "stream",
          "text": [
            "Downloading data from https://github.com/fchollet/deep-learning-models/releases/download/v0.2/resnet50_weights_tf_dim_ordering_tf_kernels_notop.h5\n",
            "94658560/94653016 [==============================] - 1s 0us/step\n"
          ],
          "name": "stdout"
        }
      ]
    },
    {
      "cell_type": "code",
      "metadata": {
        "id": "aXo4n5ajXWdM",
        "colab_type": "code",
        "outputId": "69177054-c07e-4ca2-de36-d7327b3c4368",
        "colab": {
          "base_uri": "https://localhost:8080/",
          "height": 353
        }
      },
      "source": [
        "model.summary()"
      ],
      "execution_count": 0,
      "outputs": [
        {
          "output_type": "stream",
          "text": [
            "Model: \"sequential_2\"\n",
            "_________________________________________________________________\n",
            "Layer (type)                 Output Shape              Param #   \n",
            "=================================================================\n",
            "resnet50 (Model)             (None, 3, 3, 2048)        23587712  \n",
            "_________________________________________________________________\n",
            "global_average_pooling2d_2 ( (None, 2048)              0         \n",
            "_________________________________________________________________\n",
            "dense_4 (Dense)              (None, 256)               524544    \n",
            "_________________________________________________________________\n",
            "batch_normalization_v2_2 (Ba (None, 256)               1024      \n",
            "_________________________________________________________________\n",
            "dropout_2 (Dropout)          (None, 256)               0         \n",
            "_________________________________________________________________\n",
            "dense_5 (Dense)              (None, 2)                 514       \n",
            "=================================================================\n",
            "Total params: 24,113,794\n",
            "Trainable params: 24,060,162\n",
            "Non-trainable params: 53,632\n",
            "_________________________________________________________________\n"
          ],
          "name": "stdout"
        }
      ]
    },
    {
      "cell_type": "code",
      "metadata": {
        "id": "Zv0pLX6aBmUh",
        "colab_type": "code",
        "colab": {}
      },
      "source": [
        "model.compile(optimizer=Adam(lr=0.001),\n",
        "              loss='sparse_categorical_crossentropy',\n",
        "              metrics=['accuracy'])"
      ],
      "execution_count": 0,
      "outputs": []
    },
    {
      "cell_type": "code",
      "metadata": {
        "id": "14RSlX6dBnCX",
        "colab_type": "code",
        "colab": {}
      },
      "source": [
        "def scheduler(epoch):\n",
        "    if epoch <= 2:\n",
        "        return 0.001\n",
        "    elif epoch > 2 and epoch <= 15:\n",
        "        return 0.0001 \n",
        "    else:\n",
        "        return 0.00001\n",
        "\n",
        "lr_callbacks = tf.keras.callbacks.LearningRateScheduler(scheduler)"
      ],
      "execution_count": 0,
      "outputs": []
    },
    {
      "cell_type": "code",
      "metadata": {
        "id": "xgSxp7WyLuYE",
        "colab_type": "code",
        "colab": {}
      },
      "source": [
        "# from keras.models import load_model\n",
        "# model = load_model('model.h5')"
      ],
      "execution_count": 0,
      "outputs": []
    },
    {
      "cell_type": "code",
      "metadata": {
        "id": "WTHZ8DfMBpyA",
        "colab_type": "code",
        "outputId": "917ef755-7d66-434c-a8d4-1d8413b0acdd",
        "colab": {
          "base_uri": "https://localhost:8080/",
          "height": 1000
        }
      },
      "source": [
        "model.fit_generator(train,\n",
        "                    epochs=50,\n",
        "                    callbacks=[lr_callbacks])"
      ],
      "execution_count": 13,
      "outputs": [
        {
          "output_type": "stream",
          "text": [
            "Epoch 1/50\n",
            "65/65 [==============================] - 791s 12s/step - loss: 0.9067 - accuracy: 0.5695\n",
            "Epoch 2/50\n",
            "65/65 [==============================] - 463s 7s/step - loss: 0.7532 - accuracy: 0.5929\n",
            "Epoch 3/50\n",
            "65/65 [==============================] - 468s 7s/step - loss: 0.7176 - accuracy: 0.5982\n",
            "Epoch 4/50\n",
            "65/65 [==============================] - 470s 7s/step - loss: 0.6942 - accuracy: 0.5929\n",
            "Epoch 5/50\n",
            "65/65 [==============================] - 467s 7s/step - loss: 0.6997 - accuracy: 0.6046\n",
            "Epoch 6/50\n",
            "65/65 [==============================] - 466s 7s/step - loss: 0.6622 - accuracy: 0.6363\n",
            "Epoch 7/50\n",
            "65/65 [==============================] - 468s 7s/step - loss: 0.6702 - accuracy: 0.6319\n",
            "Epoch 8/50\n",
            "65/65 [==============================] - 466s 7s/step - loss: 0.6473 - accuracy: 0.6602\n",
            "Epoch 9/50\n",
            "65/65 [==============================] - 465s 7s/step - loss: 0.6219 - accuracy: 0.6743\n",
            "Epoch 10/50\n",
            "65/65 [==============================] - 464s 7s/step - loss: 0.6236 - accuracy: 0.6845\n",
            "Epoch 11/50\n",
            "65/65 [==============================] - 464s 7s/step - loss: 0.5856 - accuracy: 0.7001\n",
            "Epoch 12/50\n",
            "65/65 [==============================] - 463s 7s/step - loss: 0.5301 - accuracy: 0.7372\n",
            "Epoch 13/50\n",
            "65/65 [==============================] - 463s 7s/step - loss: 0.5275 - accuracy: 0.7528\n",
            "Epoch 14/50\n",
            "65/65 [==============================] - 462s 7s/step - loss: 0.4793 - accuracy: 0.7869\n",
            "Epoch 15/50\n",
            "65/65 [==============================] - 461s 7s/step - loss: 0.4549 - accuracy: 0.8118\n",
            "Epoch 16/50\n",
            "65/65 [==============================] - 462s 7s/step - loss: 0.3856 - accuracy: 0.8386\n",
            "Epoch 17/50\n",
            "65/65 [==============================] - 459s 7s/step - loss: 0.3272 - accuracy: 0.8601\n",
            "Epoch 18/50\n",
            "65/65 [==============================] - 454s 7s/step - loss: 0.2940 - accuracy: 0.8883\n",
            "Epoch 19/50\n",
            "65/65 [==============================] - 444s 7s/step - loss: 0.2524 - accuracy: 0.9069\n",
            "Epoch 20/50\n",
            "65/65 [==============================] - 450s 7s/step - loss: 0.2616 - accuracy: 0.8981\n",
            "Epoch 21/50\n",
            "65/65 [==============================] - 454s 7s/step - loss: 0.2612 - accuracy: 0.9005\n",
            "Epoch 22/50\n",
            "65/65 [==============================] - 458s 7s/step - loss: 0.2446 - accuracy: 0.9161\n",
            "Epoch 23/50\n",
            "65/65 [==============================] - 462s 7s/step - loss: 0.2454 - accuracy: 0.9137\n",
            "Epoch 24/50\n",
            "65/65 [==============================] - 462s 7s/step - loss: 0.2485 - accuracy: 0.9147\n",
            "Epoch 25/50\n",
            "65/65 [==============================] - 462s 7s/step - loss: 0.2112 - accuracy: 0.9371\n",
            "Epoch 26/50\n",
            "65/65 [==============================] - 459s 7s/step - loss: 0.2054 - accuracy: 0.9400\n",
            "Epoch 27/50\n",
            "65/65 [==============================] - 463s 7s/step - loss: 0.1767 - accuracy: 0.9391\n",
            "Epoch 28/50\n",
            "65/65 [==============================] - 465s 7s/step - loss: 0.1855 - accuracy: 0.9449\n",
            "Epoch 29/50\n",
            "65/65 [==============================] - 465s 7s/step - loss: 0.1847 - accuracy: 0.9449\n",
            "Epoch 30/50\n",
            "65/65 [==============================] - 464s 7s/step - loss: 0.1576 - accuracy: 0.9542\n",
            "Epoch 31/50\n",
            "65/65 [==============================] - 463s 7s/step - loss: 0.1601 - accuracy: 0.9576\n",
            "Epoch 32/50\n",
            "65/65 [==============================] - 462s 7s/step - loss: 0.1336 - accuracy: 0.9605\n",
            "Epoch 33/50\n",
            "65/65 [==============================] - 462s 7s/step - loss: 0.1391 - accuracy: 0.9615\n",
            "Epoch 34/50\n",
            "65/65 [==============================] - 457s 7s/step - loss: 0.1347 - accuracy: 0.9605\n",
            "Epoch 35/50\n",
            "65/65 [==============================] - 459s 7s/step - loss: 0.1313 - accuracy: 0.9649\n",
            "Epoch 36/50\n",
            "65/65 [==============================] - 464s 7s/step - loss: 0.1336 - accuracy: 0.9625\n",
            "Epoch 37/50\n",
            "65/65 [==============================] - 466s 7s/step - loss: 0.0995 - accuracy: 0.9756\n",
            "Epoch 38/50\n",
            "65/65 [==============================] - 472s 7s/step - loss: 0.1090 - accuracy: 0.9737\n",
            "Epoch 39/50\n",
            "65/65 [==============================] - 471s 7s/step - loss: 0.1171 - accuracy: 0.9673\n",
            "Epoch 40/50\n",
            "65/65 [==============================] - 469s 7s/step - loss: 0.1165 - accuracy: 0.9717\n",
            "Epoch 41/50\n",
            "65/65 [==============================] - 477s 7s/step - loss: 0.1266 - accuracy: 0.9678\n",
            "Epoch 42/50\n",
            "65/65 [==============================] - 472s 7s/step - loss: 0.1019 - accuracy: 0.9698\n",
            "Epoch 43/50\n",
            "65/65 [==============================] - 474s 7s/step - loss: 0.0877 - accuracy: 0.9761\n",
            "Epoch 44/50\n",
            "65/65 [==============================] - 468s 7s/step - loss: 0.0837 - accuracy: 0.9746\n",
            "Epoch 45/50\n",
            "65/65 [==============================] - 467s 7s/step - loss: 0.0837 - accuracy: 0.9761\n",
            "Epoch 46/50\n",
            "65/65 [==============================] - 468s 7s/step - loss: 0.0814 - accuracy: 0.9761\n",
            "Epoch 47/50\n",
            "65/65 [==============================] - 470s 7s/step - loss: 0.0789 - accuracy: 0.9810\n",
            "Epoch 48/50\n",
            "65/65 [==============================] - 468s 7s/step - loss: 0.0970 - accuracy: 0.9815\n",
            "Epoch 49/50\n",
            "65/65 [==============================] - 469s 7s/step - loss: 0.0743 - accuracy: 0.9834\n",
            "Epoch 50/50\n",
            "65/65 [==============================] - 471s 7s/step - loss: 0.0750 - accuracy: 0.9805\n"
          ],
          "name": "stdout"
        },
        {
          "output_type": "execute_result",
          "data": {
            "text/plain": [
              "<tensorflow.python.keras.callbacks.History at 0x7ff6d3ff69e8>"
            ]
          },
          "metadata": {
            "tags": []
          },
          "execution_count": 13
        }
      ]
    },
    {
      "cell_type": "code",
      "metadata": {
        "id": "yXIEDY9EiC0T",
        "colab_type": "code",
        "colab": {}
      },
      "source": [
        "model.save(\"model.h5\")\n"
      ],
      "execution_count": 0,
      "outputs": []
    },
    {
      "cell_type": "code",
      "metadata": {
        "id": "qj3G2x5TzxYq",
        "colab_type": "code",
        "outputId": "7db6ba5d-7fe6-41fa-e710-5b922e245524",
        "colab": {
          "base_uri": "https://localhost:8080/",
          "height": 34
        }
      },
      "source": [
        "model.evaluate_generator(train)"
      ],
      "execution_count": 15,
      "outputs": [
        {
          "output_type": "execute_result",
          "data": {
            "text/plain": [
              "[0.01888733204597464, 0.9970746]"
            ]
          },
          "metadata": {
            "tags": []
          },
          "execution_count": 15
        }
      ]
    },
    {
      "cell_type": "code",
      "metadata": {
        "id": "2CTLdANnO6-0",
        "colab_type": "code",
        "outputId": "27b6253e-d482-4f98-d344-694d008e3fe0",
        "colab": {
          "base_uri": "https://localhost:8080/",
          "height": 134
        }
      },
      "source": [
        "model.predict_generator(train)"
      ],
      "execution_count": 0,
      "outputs": [
        {
          "output_type": "execute_result",
          "data": {
            "text/plain": [
              "array([[1.9152135e-03, 9.9808478e-01],\n",
              "       [9.9932277e-01, 6.7729759e-04],\n",
              "       [9.9961483e-01, 3.8509612e-04],\n",
              "       ...,\n",
              "       [9.9999952e-01, 5.2479760e-07],\n",
              "       [9.0291673e-05, 9.9990976e-01],\n",
              "       [9.9930334e-01, 6.9661456e-04]], dtype=float32)"
            ]
          },
          "metadata": {
            "tags": []
          },
          "execution_count": 21
        }
      ]
    }
  ]
}